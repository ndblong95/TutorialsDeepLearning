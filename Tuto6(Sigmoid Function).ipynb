{
 "cells": [
  {
   "cell_type": "code",
   "execution_count": 1,
   "metadata": {},
   "outputs": [],
   "source": [
    "import math as math\n",
    "import numpy as np\n",
    "import matplotlib.pyplot as plt\n",
    "import torch.tensor as tf\n",
    "from torch.autograd import Variable\n",
    "import pickle as pickle\n",
    "\n",
    "x_data = [1.0, 2.0, 3.0]\n",
    "y_data = [2.0, 4.0, 6.0]\n",
    "\n",
    "w=0.01\n",
    "stepsize = 1e-2\n",
    "e=0.01\n",
    "fRecur=0.0\n",
    "fRecur1=0.0\n",
    "alpha=0.9\n",
    "beta=0.999"
   ]
  },
  {
   "cell_type": "code",
   "execution_count": 2,
   "metadata": {},
   "outputs": [],
   "source": [
    "def sigmoid(z):\n",
    "    return 1/(1+pow(math.e,-z))"
   ]
  },
  {
   "cell_type": "code",
   "execution_count": 3,
   "metadata": {},
   "outputs": [],
   "source": [
    "def forward(x):\n",
    "    return x * w"
   ]
  },
  {
   "cell_type": "code",
   "execution_count": 4,
   "metadata": {},
   "outputs": [],
   "source": [
    "# Loss function\n",
    "def loss(x, y):\n",
    "    y_pred = sigmoid(forward(x))\n",
    "    return y*math.log10(y_pred) + (1-y)*math.log10(1-y_pred)"
   ]
  },
  {
   "cell_type": "code",
   "execution_count": 8,
   "metadata": {},
   "outputs": [
    {
     "name": "stdout",
     "output_type": "stream",
     "text": [
      "w= 0\n",
      "\t 1.0 2.0 0.0 -0.3010299956639812\n",
      "\t 2.0 4.0 0.0 -0.30102999566398125\n",
      "\t 3.0 6.0 0.0 -0.30102999566398103\n",
      "MSE= 0.3010299956639812\n",
      "w= 1\n",
      "\t 1.0 2.0 1.0 0.29824665962238694\n",
      "\t 2.0 4.0 2.0 2.5506427566245913\n",
      "\t 3.0 6.0 3.0 6.4933160098700045\n",
      "MSE= -3.114068475372328\n",
      "w= 2\n",
      "\t 1.0 2.0 2.0 0.8134648290115851\n",
      "\t 2.0 4.0 4.0 5.203651369297376\n",
      "\t 3.0 6.0 6.0 13.027759280703414\n",
      "MSE= -6.348291826337459\n",
      "w= 3\n",
      "\t 1.0 2.0 3.0 1.2817822270309853\n",
      "\t 2.0 4.0 6.0 7.816225497864349\n",
      "\t 3.0 6.0 9.0 19.543198092754846\n",
      "MSE= -9.547068605883394\n",
      "w= 4\n",
      "\t 1.0 2.0 4.0 1.729295514071361\n",
      "\t 2.0 4.0 8.0 10.422921900541514\n",
      "\t 3.0 6.0 12.0 26.057666245808413\n",
      "MSE= -12.736627886807094\n",
      "w= 5\n",
      "\t 1.0 2.0 5.0 2.1685559707233857\n",
      "\t 2.0 4.0 10.0 13.028814740607405\n",
      "\t 3.0 6.0 15.0 32.57208600940997\n",
      "MSE= -15.923152240246921\n",
      "w= 6\n",
      "\t 1.0 2.0 6.0 2.6046917150252855\n",
      "\t 2.0 4.0 12.0 15.634598680129317\n",
      "\t 3.0 6.0 18.0 39.08650336653129\n",
      "MSE= -19.108597920561962\n",
      "w= 7\n",
      "\t 1.0 2.0 7.0 3.0396655284714686\n",
      "\t 2.0 4.0 14.0 18.24036787864707\n",
      "\t 3.0 6.0 21.0 45.60092036371099\n",
      "MSE= -22.29365125694318\n",
      "w= 8\n",
      "\t 1.0 2.0 8.0 3.474210190089208\n",
      "\t 2.0 4.0 16.0 20.846135082218936\n",
      "\t 3.0 6.0 24.0 52.11533712926105\n",
      "MSE= -25.478560800523066\n",
      "w= 9\n",
      "\t 1.0 2.0 9.0 3.9085967442389284\n",
      "\t 2.0 4.0 18.0 23.45190201727306\n",
      "\t 3.0 6.0 27.0 58.62966406040544\n",
      "MSE= -28.663387607305808\n"
     ]
    },
    {
     "data": {
      "image/png": "[encoded data removed]",
      "text/plain": [
       "<Figure size 432x288 with 1 Axes>"
      ]
     },
     "metadata": {
      "needs_background": "light"
     },
     "output_type": "display_data"
    }
   ],
   "source": [
    "arrW=[]\n",
    "arrLoss=[]\n",
    "\n",
    "for w in np.arange(0,10):\n",
    "    print(\"w=\", w)\n",
    "    l_sum = 0\n",
    "    for x_val, y_val in zip(x_data, y_data):\n",
    "        y_pred_val = forward(x_val)\n",
    "        l = loss(x_val, y_val)\n",
    "        l_sum += l\n",
    "        print(\"\\t\", x_val, y_val, y_pred_val, l)\n",
    "    print(\"MSE=\", -l_sum / 3)\n",
    "    arrW.append(w)\n",
    "    arrLoss.append(-l_sum / 3)\n",
    "plt.plot(arrW, arrLoss)\n",
    "plt.ylabel('Loss')\n",
    "plt.xlabel('w')\n",
    "plt.show()"
   ]
  },
  {
   "cell_type": "code",
   "execution_count": null,
   "metadata": {},
   "outputs": [],
   "source": []
  }
 ],
 "metadata": {
  "kernelspec": {
   "display_name": "Python 3",
   "language": "python",
   "name": "python3"
  },
  "language_info": {
   "codemirror_mode": {
    "name": "ipython",
    "version": 3
   },
   "file_extension": ".py",
   "mimetype": "text/x-python",
   "name": "python",
   "nbconvert_exporter": "python",
   "pygments_lexer": "ipython3",
   "version": "3.6.8"
  }
 },
 "nbformat": 4,
 "nbformat_minor": 2
}
