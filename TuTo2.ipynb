{
 "cells": [
  {
   "cell_type": "code",
   "execution_count": 1,
   "metadata": {},
   "outputs": [
    {
     "name": "stdout",
     "output_type": "stream",
     "text": [
      "[18.666666666666668, 4.666666666666667, 0.0, 4.666666666666667, 18.666666666666668]\n"
     ]
    }
   ],
   "source": [
    "import matplotlib.pyplot as plt\n",
    "\n",
    "def readFile():\n",
    "    f=open('/home/dominic/Desktop/Trainning/Test/readTest')\n",
    "    data=f.read()\n",
    "    arrData= data.split()\n",
    "    arrData = list(map(int, arrData))\n",
    "    return arrData\n",
    "\n",
    "def linear(omega,x):\n",
    "    return omega*x\n",
    "\n",
    "def lossF(x, y, omega):\n",
    "    yPre=linear(omega,x)\n",
    "    return pow(yPre -y, 2)\n",
    "\n",
    "def MSEF(omega):\n",
    "    arrLoss=[]\n",
    "    arrMSE=[]\n",
    "    for i in range(0,omega+1):\n",
    "        for j in range(1,4):\n",
    "            arrLoss.append( lossF(j,j*2,i))\n",
    "        mse=sum(arrLoss)/3\n",
    "        arrMSE.append(mse)\n",
    "        arrLoss.clear()\n",
    "    print(arrMSE)\n",
    "    plt.plot(range(omega+1), arrMSE)\n",
    "    plt.xlabel('W')\n",
    "    plt.ylabel('Loss')\n",
    "    plt.show\n",
    "\n",
    "def Main():\n",
    "    arrData=readFile()\n",
    "    \n",
    "#    '''Test Linear'''\n",
    "# =============================================================================\n",
    "#     omega=arrData[1]/arrData[0]\n",
    "#     result=linear(omega,arrData[6])\n",
    "#     arrData[7]=int(result)\n",
    "#     print(\"New Array\",arrData)\n",
    "#     \n",
    "# =============================================================================\n",
    "#   Loss Funtion\n",
    "#   result=lossF(3, 6, 3)\n",
    "#    print(result)\n",
    "#    MSE\n",
    "    MSEF(4)\n",
    "Main()"
   ]
  },
  {
   "cell_type": "code",
   "execution_count": 7,
   "metadata": {},
   "outputs": [],
   "source": []
  },
  {
   "cell_type": "code",
   "execution_count": 9,
   "metadata": {},
   "outputs": [],
   "source": []
  },
  {
   "cell_type": "code",
   "execution_count": 10,
   "metadata": {},
   "outputs": [],
   "source": []
  },
  {
   "cell_type": "code",
   "execution_count": null,
   "metadata": {},
   "outputs": [],
   "source": []
  },
  {
   "cell_type": "code",
   "execution_count": null,
   "metadata": {},
   "outputs": [],
   "source": []
  }
 ],
 "metadata": {
  "kernelspec": {
   "display_name": "Python 3",
   "language": "python",
   "name": "python3"
  },
  "language_info": {
   "codemirror_mode": {
    "name": "ipython",
    "version": 3
   },
   "file_extension": ".py",
   "mimetype": "text/x-python",
   "name": "python",
   "nbconvert_exporter": "python",
   "pygments_lexer": "ipython3",
   "version": "3.6.8"
  }
 },
 "nbformat": 4,
 "nbformat_minor": 2
}
