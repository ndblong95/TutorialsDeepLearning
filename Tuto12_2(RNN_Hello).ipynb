{
 "cells": [
  {
   "cell_type": "code",
   "execution_count": 1,
   "metadata": {},
   "outputs": [],
   "source": [
    "import numpy as np\n",
    "import torch\n",
    "import torch.nn as nn\n",
    "import torch.nn.functional as F\n",
    "import torch.optim as optim\n",
    "from torch.autograd import Variable"
   ]
  },
  {
   "cell_type": "code",
   "execution_count": 3,
   "metadata": {},
   "outputs": [],
   "source": [
    "one_hot = [[1, 0, 0, 0, 0],  #h\n",
    "           [0, 1, 0, 0, 0],  #i\n",
    "           [0, 0, 1, 0, 0],  #e\n",
    "           [0, 0, 0, 1, 0],  #l\n",
    "           [0, 0, 0, 0, 1]]  #0\n",
    "            \n",
    "x_data = [0, 1, 0, 2, 3, 3]  # hihell\n",
    "y_data = [1, 0, 2, 3, 3, 4]  # ihello\n",
    "x_one_hot = [one_hot[x] for x in x_data]\n",
    "\n",
    "getchar = ['h', 'i', 'e', 'l', 'o']\n",
    "            #0   1    2    3    4\n",
    "inputs = (torch.Tensor(x_one_hot))\n",
    "labels = (torch.LongTensor(y_data))\n",
    "\n",
    "input_dim = 5\n",
    "hidden_dim = 5\n",
    "batch_size = 1\n",
    "seq_length = 1\n",
    "num_layers = 1"
   ]
  },
  {
   "cell_type": "code",
   "execution_count": 4,
   "metadata": {},
   "outputs": [],
   "source": [
    "class Model(nn.Module):\n",
    "\n",
    "    def __init__(self):\n",
    "        super(Model, self).__init__()\n",
    "        self.rnn = nn.RNN(input_size=input_dim, hidden_size=hidden_dim, batch_first=True)\n",
    "        self.ln= nn.Linear(hidden_dim,5)\n",
    "        \n",
    "    def forward(self, hidden, x):\n",
    "        x = x.view(batch_size, seq_length, input_dim)\n",
    "        out, hidden = self.rnn(x, hidden)\n",
    "        out= out.view(-1, 5)\n",
    "        out= self.ln(out)\n",
    "        return hidden, out\n",
    "\n",
    "    def init_hidden(self):\n",
    "        return (torch.zeros(num_layers, batch_size, hidden_dim))"
   ]
  },
  {
   "cell_type": "code",
   "execution_count": 5,
   "metadata": {},
   "outputs": [
    {
     "name": "stdout",
     "output_type": "stream",
     "text": [
      "String:ihilhh , epoch: 1, loss: 9.068 \n",
      "String:ihlllh , epoch: 2, loss: 8.499 \n",
      "String:ihllll , epoch: 3, loss: 8.055 \n",
      "String:ihllll , epoch: 4, loss: 7.647 \n",
      "String:ihllll , epoch: 5, loss: 7.229 \n",
      "String:ihilll , epoch: 6, loss: 6.790 \n",
      "String:ihilll , epoch: 7, loss: 6.335 \n",
      "String:ihilll , epoch: 8, loss: 5.876 \n",
      "String:ihilll , epoch: 9, loss: 5.424 \n",
      "String:ihilll , epoch: 10, loss: 4.987 \n",
      "String:ihelll , epoch: 11, loss: 4.572 \n",
      "String:ihello , epoch: 12, loss: 4.181 \n",
      "String:ihello , epoch: 13, loss: 3.818 \n",
      "String:ihello , epoch: 14, loss: 3.486 \n",
      "String:ihello , epoch: 15, loss: 3.185 \n",
      "String:ihello , epoch: 16, loss: 2.915 \n",
      "String:ihello , epoch: 17, loss: 2.674 \n",
      "String:ihello , epoch: 18, loss: 2.460 \n",
      "String:ihello , epoch: 19, loss: 2.269 \n",
      "String:ihello , epoch: 20, loss: 2.100 \n",
      "String:ihello , epoch: 21, loss: 1.948 \n",
      "String:ihello , epoch: 22, loss: 1.813 \n",
      "String:ihello , epoch: 23, loss: 1.691 \n",
      "String:ihello , epoch: 24, loss: 1.582 \n",
      "String:ihello , epoch: 25, loss: 1.483 \n",
      "String:ihello , epoch: 26, loss: 1.393 \n",
      "String:ihello , epoch: 27, loss: 1.311 \n",
      "String:ihello , epoch: 28, loss: 1.237 \n",
      "String:ihello , epoch: 29, loss: 1.169 \n",
      "String:ihello , epoch: 30, loss: 1.108 \n",
      "String:ihello , epoch: 31, loss: 1.051 \n",
      "String:ihello , epoch: 32, loss: 1.000 \n",
      "String:ihello , epoch: 33, loss: 0.952 \n",
      "String:ihello , epoch: 34, loss: 0.908 \n",
      "String:ihello , epoch: 35, loss: 0.868 \n",
      "String:ihello , epoch: 36, loss: 0.831 \n",
      "String:ihello , epoch: 37, loss: 0.796 \n",
      "String:ihello , epoch: 38, loss: 0.764 \n",
      "String:ihello , epoch: 39, loss: 0.734 \n",
      "String:ihello , epoch: 40, loss: 0.706 \n",
      "String:ihello , epoch: 41, loss: 0.680 \n",
      "String:ihello , epoch: 42, loss: 0.655 \n",
      "String:ihello , epoch: 43, loss: 0.632 \n",
      "String:ihello , epoch: 44, loss: 0.611 \n",
      "String:ihello , epoch: 45, loss: 0.591 \n",
      "String:ihello , epoch: 46, loss: 0.572 \n",
      "String:ihello , epoch: 47, loss: 0.554 \n",
      "String:ihello , epoch: 48, loss: 0.537 \n",
      "String:ihello , epoch: 49, loss: 0.521 \n",
      "String:ihello , epoch: 50, loss: 0.505 \n"
     ]
    }
   ],
   "source": [
    "model = Model()\n",
    "\n",
    "criterion = nn.CrossEntropyLoss()\n",
    "optimizer = optim.SGD(model.parameters(), lr=0.1)\n",
    "\n",
    "for epoch in range(50):\n",
    "    model.train()\n",
    "    optimizer.zero_grad()\n",
    "    loss = 0\n",
    "    hidden = model.init_hidden()\n",
    "    pred=\"\"\n",
    "    for input, label in zip(inputs, labels):\n",
    "#        print(\"\\n Bf Shape output:\",input.size(),\"\\n Bf Shape label:\",label)\n",
    "        label=label.view(1)\n",
    "        hidden, output = model(hidden, input)\n",
    "#        print(\"\\n Shape output:\",np.shape(output),\"\\n Shape label:\",np.shape(label))\n",
    "        val, idx= output.max(1)\n",
    "#        print(val, idx)\n",
    "        pred+= getchar[idx.data]\n",
    "#        print(getchar[idx.data])\n",
    "        loss += criterion(output, label)\n",
    "    print(\"String:{} , epoch: {}, loss: {:.3f} \".format(pred, epoch + 1, loss.data))\n",
    "    loss.backward()\n",
    "    optimizer.step()"
   ]
  },
  {
   "cell_type": "code",
   "execution_count": null,
   "metadata": {},
   "outputs": [],
   "source": []
  }
 ],
 "metadata": {
  "kernelspec": {
   "display_name": "Python 3",
   "language": "python",
   "name": "python3"
  },
  "language_info": {
   "codemirror_mode": {
    "name": "ipython",
    "version": 3
   },
   "file_extension": ".py",
   "mimetype": "text/x-python",
   "name": "python",
   "nbconvert_exporter": "python",
   "pygments_lexer": "ipython3",
   "version": "3.6.8"
  }
 },
 "nbformat": 4,
 "nbformat_minor": 2
}
