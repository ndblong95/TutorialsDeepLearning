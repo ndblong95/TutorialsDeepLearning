{
 "cells": [
  {
   "cell_type": "code",
   "execution_count": 19,
   "metadata": {},
   "outputs": [],
   "source": [
    "import numpy as np\n",
    "import matplotlib.pyplot as plt\n",
    "import torch.tensor as tf\n",
    "from torch.autograd import Variable\n",
    "x_data = [1.0, 2.0, 3.0]\n",
    "y_data = [2.0, 4.0, 6.0]\n",
    "w1=1.0\n",
    "w2=2.0\n",
    "b=3"
   ]
  },
  {
   "cell_type": "code",
   "execution_count": 20,
   "metadata": {},
   "outputs": [],
   "source": [
    "def forward(x):\n",
    "    return (x*x*w2)+x*w1+b"
   ]
  },
  {
   "cell_type": "code",
   "execution_count": 21,
   "metadata": {},
   "outputs": [],
   "source": [
    "def loss(x,y):\n",
    "    y_pred=forward(x)\n",
    "    return pow(y_pred-y,2)"
   ]
  },
  {
   "cell_type": "code",
   "execution_count": 29,
   "metadata": {},
   "outputs": [],
   "source": [
    "def gradient1(x,y):\n",
    "    return 2*x*(forward(x)-y)"
   ]
  },
  {
   "cell_type": "code",
   "execution_count": 30,
   "metadata": {},
   "outputs": [],
   "source": [
    "def gradient2(x,y):\n",
    "    return 2*x*x*(forward(x)-y)"
   ]
  },
  {
   "cell_type": "code",
   "execution_count": 31,
   "metadata": {},
   "outputs": [],
   "source": [
    "def backpropagation1(x,y):\n",
    "    return w1- 0.01*gradient1(x,y)"
   ]
  },
  {
   "cell_type": "code",
   "execution_count": 32,
   "metadata": {},
   "outputs": [],
   "source": [
    "def backpropagation2(x,y):\n",
    "    return w2- 0.01*gradient2(x,y)"
   ]
  },
  {
   "cell_type": "code",
   "execution_count": 33,
   "metadata": {},
   "outputs": [
    {
     "name": "stdout",
     "output_type": "stream",
     "text": [
      "14.757890559999998\n",
      "28.452791794538896\n",
      "27.86670512889111\n",
      "0.47473317563360945\n",
      "1.7708899473677393\n",
      "3.7013509720798137\n",
      "2.716862434208839\n",
      "0.5215138005086246\n",
      "0.09776204633919786\n",
      "1.7807787256934386\n",
      "0.0057059040202537045\n",
      "0.13986518611849394\n",
      "2.0025252707746612\n",
      "0.0702470008512423\n",
      "0.02417219027746103\n",
      "1.88737652190126\n",
      "0.03832362061631658\n",
      "0.04724112577387161\n",
      "1.8783056457069254\n",
      "0.042753541150926395\n",
      "0.037047043656551024\n",
      "1.8378258844266189\n",
      "0.03727028361306275\n",
      "0.037847418085562905\n",
      "1.8079667280466494\n",
      "0.035019958125577635\n",
      "0.03547404232378363\n",
      "1.7757905600867554\n",
      "0.032020117405946166\n",
      "0.034144602233797124\n"
     ]
    },
    {
     "data": {
      "text/plain": [
       "<function matplotlib.pyplot.show(*args, **kw)>"
      ]
     },
     "execution_count": 33,
     "metadata": {},
     "output_type": "execute_result"
    },
    {
     "data": {
      "image/png": "[encoded data removed]",
      "text/plain": [
       "<Figure size 432x288 with 1 Axes>"
      ]
     },
     "metadata": {
      "needs_background": "light"
     },
     "output_type": "display_data"
    }
   ],
   "source": [
    "arrLoss=[]\n",
    "for i in range(10):\n",
    "    for x_val, y_val in zip(x_data, y_data):\n",
    "        w1=backpropagation1(x_val, y_val)\n",
    "        w2=backpropagation2(x_val, y_val)   \n",
    "        l=loss(x_val,y_val)\n",
    "        arrLoss.append(l)\n",
    "        print(l)\n",
    "plt.plot(arrLoss)\n",
    "plt.show"
   ]
  },
  {
   "cell_type": "code",
   "execution_count": null,
   "metadata": {},
   "outputs": [],
   "source": []
  }
 ],
 "metadata": {
  "kernelspec": {
   "display_name": "Python 3",
   "language": "python",
   "name": "python3"
  },
  "language_info": {
   "codemirror_mode": {
    "name": "ipython",
    "version": 3
   },
   "file_extension": ".py",
   "mimetype": "text/x-python",
   "name": "python",
   "nbconvert_exporter": "python",
   "pygments_lexer": "ipython3",
   "version": "3.6.8"
  }
 },
 "nbformat": 4,
 "nbformat_minor": 2
}
