{
 "cells": [
  {
   "cell_type": "code",
   "execution_count": 11,
   "metadata": {},
   "outputs": [],
   "source": [
    "import math as math\n",
    "import numpy as np\n",
    "import matplotlib.pyplot as plt\n",
    "import torch.tensor as tf\n",
    "from torch.autograd import Variable\n",
    "import pickle as pickle\n",
    "\n",
    "x_data = [1.0, 2.0, 3.0]\n",
    "y_data = [2.0, 4.0, 6.0]\n",
    "w=0.01\n",
    "stepsize = 1e-2\n",
    "e=0.01\n",
    "fRecur=0.0\n",
    "fRecur1=0.0\n",
    "alpha=0.9\n",
    "beta=0.999"
   ]
  },
  {
   "cell_type": "code",
   "execution_count": 12,
   "metadata": {},
   "outputs": [],
   "source": [
    "def forward(x):\n",
    "    return x * w"
   ]
  },
  {
   "cell_type": "code",
   "execution_count": 13,
   "metadata": {},
   "outputs": [],
   "source": [
    "def loss(x, y):\n",
    "    y_pred = forward(x)\n",
    "    return (y_pred - y)*(y_pred - y)"
   ]
  },
  {
   "cell_type": "code",
   "execution_count": 14,
   "metadata": {},
   "outputs": [],
   "source": [
    "def gradient(x, y):\n",
    "    return 2 * x * ((x * w) - y)"
   ]
  },
  {
   "cell_type": "code",
   "execution_count": 15,
   "metadata": {},
   "outputs": [],
   "source": [
    "def backpropagation(x,y,index):\n",
    "    fRecur=momen(x,y,index)\n",
    "    fRecur1=velocity(x,y,index)\n",
    "    return w- (e*fRecur/((math.sqrt(fRecur1)+stepsize)))"
   ]
  },
  {
   "cell_type": "code",
   "execution_count": 16,
   "metadata": {},
   "outputs": [],
   "source": [
    "def adaGrad(x, y):\n",
    "    if fRecur==0.0:\n",
    "        return math.pow(gradient(x, y),2)\n",
    "    else:\n",
    "        return adaGrad(x, y) + math.pow(gradient(x, y),2)"
   ]
  },
  {
   "cell_type": "code",
   "execution_count": 17,
   "metadata": {},
   "outputs": [],
   "source": [
    "def momen(x,y,index):\n",
    "    if fRecur==0.0:\n",
    "        return (1- alpha)*gradient(x, y)\n",
    "    else:\n",
    "        return ((alpha*momen(x,y) + (1- alpha)*gradient(x, y)))/(1-pow(alpha,index))"
   ]
  },
  {
   "cell_type": "code",
   "execution_count": 18,
   "metadata": {},
   "outputs": [],
   "source": [
    "def velocity(x,y,index):\n",
    "    if fRecur1==0.0:\n",
    "        return (1- beta)*pow(gradient(x, y),2)\n",
    "    else:\n",
    "        return ((beta*velocity(x,y) + (1- beta)*pow(gradient(x, y),2)))/(1-pow(beta,index))"
   ]
  },
  {
   "cell_type": "code",
   "execution_count": 19,
   "metadata": {},
   "outputs": [],
   "source": [
    "def RMSprop(x,y):\n",
    "    if fRecur==0.0:\n",
    "        return 0.1*(gradient(x,y)*gradient(x,y))\n",
    "    else:\n",
    "        return 0.9* RMSprop(x,y)+ 0.1*(gradient(x,y)*gradient(x,y))"
   ]
  },
  {
   "cell_type": "code",
   "execution_count": 20,
   "metadata": {},
   "outputs": [
    {
     "name": "stdout",
     "output_type": "stream",
     "text": [
      "0.04\n"
     ]
    }
   ],
   "source": [
    "arrLoss=[]\n",
    "arrMSE=[]\n",
    "l=[]\n",
    "arrW=[]\n",
    "arrE=[]\n",
    "arrLoss=[]\n",
    "print(forward(4))\n",
    "for epoch in range(100):\n",
    "    for index,(x_val, y_val) in enumerate(zip(x_data, y_data)):\n",
    "#        print(momen(x_val,y_val,index))\n",
    "        w=backpropagation(x_val,y_val,index)\n",
    "#        print(w)\n",
    "        #print(\"\\tgrad: \", x_val, y_val, w)\n",
    "        l = loss(x_val, y_val)\n",
    "#    print(\"progress:\", epoch, \"w=\", w, \"loss=\", l)\n",
    "    arrLoss.append(l)\n",
    "    arrW.append(w)"
   ]
  },
  {
   "cell_type": "code",
   "execution_count": 21,
   "metadata": {},
   "outputs": [
    {
     "name": "stdout",
     "output_type": "stream",
     "text": [
      "8.0\n"
     ]
    },
    {
     "data": {
      "text/plain": [
       "<function matplotlib.pyplot.show(*args, **kw)>"
      ]
     },
     "execution_count": 21,
     "metadata": {},
     "output_type": "execute_result"
    },
    {
     "data": {
      "image/png": "[encoded data removed]",
      "text/plain": [
       "<Figure size 432x288 with 1 Axes>"
      ]
     },
     "metadata": {
      "needs_background": "light"
     },
     "output_type": "display_data"
    }
   ],
   "source": [
    "print(forward(4))\n",
    "plt.plot(arrLoss)\n",
    "plt.xlabel('W')\n",
    "plt.ylabel('loss')\n",
    "plt.show"
   ]
  },
  {
   "cell_type": "code",
   "execution_count": null,
   "metadata": {},
   "outputs": [],
   "source": []
  }
 ],
 "metadata": {
  "kernelspec": {
   "display_name": "Python 3",
   "language": "python",
   "name": "python3"
  },
  "language_info": {
   "codemirror_mode": {
    "name": "ipython",
    "version": 3
   },
   "file_extension": ".py",
   "mimetype": "text/x-python",
   "name": "python",
   "nbconvert_exporter": "python",
   "pygments_lexer": "ipython3",
   "version": "3.6.8"
  }
 },
 "nbformat": 4,
 "nbformat_minor": 2
}
