{
 "cells": [
  {
   "cell_type": "code",
   "execution_count": 1,
   "metadata": {},
   "outputs": [],
   "source": [
    "import numpy as np\n",
    "import torch\n",
    "import torch.nn as nn\n",
    "import torch.nn.functional as F\n",
    "import torch.optim as optim\n",
    "from torchvision import datasets, transforms\n",
    "from torch.autograd import Variable\n",
    "# =============================================================================\n",
    "# Read Data\n",
    "# =============================================================================\n",
    "batch_size = 64\n",
    "train_dataset = datasets.MNIST(root='./data/',\n",
    "                               train=True,\n",
    "                               transform=transforms.ToTensor(),\n",
    "                               download=True)\n",
    "test_dataset = datasets.MNIST(root='./data/',\n",
    "                              train=False,\n",
    "                              transform=transforms.ToTensor())\n",
    "train_loader = torch.utils.data.DataLoader(dataset=train_dataset,\n",
    "                                           batch_size=batch_size,\n",
    "                                           shuffle=True)\n",
    "test_loader = torch.utils.data.DataLoader(dataset=test_dataset,\n",
    "                                          batch_size=batch_size,\n",
    "                                          shuffle=False)"
   ]
  },
  {
   "cell_type": "code",
   "execution_count": 2,
   "metadata": {},
   "outputs": [],
   "source": [
    "# =============================================================================\n",
    "# Define Model\n",
    "# =============================================================================\n",
    "\n",
    "class Inception(nn.Module):\n",
    "    def __init__(self,inp_pre):\n",
    "        super(Inception, self).__init__()\n",
    "        self.br1_avgp = nn.Conv2d(inp_pre, 24, kernel_size=1)\n",
    "        \n",
    "        self.br2 = nn.Conv2d(inp_pre, 16, kernel_size=1)\n",
    "\n",
    "        self.br3_1 = nn.Conv2d(inp_pre, 16, kernel_size=1)\n",
    "        self.br3_2 = nn.Conv2d(16, 24, kernel_size=5, padding=2)\n",
    "\n",
    "        self.br4_1 = nn.Conv2d(inp_pre, 16, kernel_size=1)\n",
    "        self.br4_2 = nn.Conv2d(16, 24, kernel_size=3, padding=1)\n",
    "        self.br4_3 = nn.Conv2d(24, 24, kernel_size=3, padding=1)\n",
    "        \n",
    "    def forward(self, x):\n",
    "        #12*12\n",
    "        br1_avgp = F.avg_pool2d(x, kernel_size=3, stride=1, padding=1)#12*12->12 Must kernel=3,pad=1(to hold dim)   \n",
    "        br1_avgp = self.br1_avgp(br1_avgp)#12->12\n",
    "        # => 24*12*12\n",
    "#        print(np.shape(br1_avgp))dim\n",
    "        br2 = self.br2(x)#12->12\n",
    "        #=> 16*12*12\n",
    "\n",
    "        br3 = self.br3_1(x)#12->12\n",
    "        br3 = self.br3_2(br3)#12->12\n",
    "        #=>24*12*12\n",
    "\n",
    "        br4 = self.br4_1(x)#12->12\n",
    "        br4 = self.br4_2(br4)#12->12\n",
    "        br4 = self.br4_3(br4)#12->12\n",
    "        #=> 24*12*12\n",
    "\n",
    "        outputs = [br1_avgp, br2, br3, br4]\n",
    "        \n",
    "        #=> 88\n",
    "        return torch.cat(outputs, 1)\n",
    "\n",
    "class Model(nn.Module):\n",
    "    \n",
    "    def __init__(self):\n",
    "        super(Model, self).__init__()\n",
    "        self.conv1 = nn.Conv2d(1, 10, kernel_size=5)#12*12\n",
    "        self.incept1 = Inception(inp_pre=10)\n",
    "        \n",
    "        self.conv2 = nn.Conv2d(88, 20, kernel_size=5)#Calculate\n",
    "        self.incept2 = Inception(inp_pre=20)\n",
    "\n",
    "        self.mp = nn.MaxPool2d(2)\n",
    "        self.fc = nn.Linear(1408, 10)\n",
    "# Size= ((N-F)/Stride)+1\n",
    "    def forward(self, x):\n",
    "        in_size = x.size(0)\n",
    "        x = F.relu(self.mp(self.conv1(x)))\n",
    "        x = self.incept1(x)\n",
    "#        print(np.shape(x))\n",
    "        x = F.relu(self.mp(self.conv2(x)))\n",
    "        x = self.incept2(x)\n",
    "#        print(np.shape(x))\n",
    "        x = x.view(in_size, -1)\n",
    "        x = self.fc(x)\n",
    "        return F.log_softmax(x)\n",
    "\n",
    "model = Model()\n",
    "optimizer = optim.SGD(model.parameters(), lr=0.01, momentum=0.5)"
   ]
  },
  {
   "cell_type": "code",
   "execution_count": null,
   "metadata": {},
   "outputs": [
    {
     "name": "stderr",
     "output_type": "stream",
     "text": [
      "/home/dominic/yes/lib/python3.6/site-packages/ipykernel_launcher.py:65: UserWarning: Implicit dimension choice for log_softmax has been deprecated. Change the call to include dim=X as an argument.\n"
     ]
    },
    {
     "name": "stdout",
     "output_type": "stream",
     "text": [
      "Train Epoch: 1 Loss:0.14907433092594147\n"
     ]
    }
   ],
   "source": [
    "arLoss=[]\n",
    "for epoch in range(1, 10):\n",
    "    model.train()\n",
    "    for index, (x, y) in enumerate(train_loader):\n",
    "        x, y = Variable(x), Variable(y)\n",
    "        y_pred = model(x)\n",
    "        loss = F.nll_loss(y_pred, y)\n",
    "        arLoss.append(loss)\n",
    "        optimizer.zero_grad()\n",
    "        loss.backward()\n",
    "        optimizer.step()\n",
    "    print('Train Epoch: {} Loss:{}'.format(epoch, loss.data))\n",
    "plt.plot(arLoss)"
   ]
  },
  {
   "cell_type": "code",
   "execution_count": null,
   "metadata": {},
   "outputs": [],
   "source": []
  }
 ],
 "metadata": {
  "kernelspec": {
   "display_name": "Python 3",
   "language": "python",
   "name": "python3"
  },
  "language_info": {
   "codemirror_mode": {
    "name": "ipython",
    "version": 3
   },
   "file_extension": ".py",
   "mimetype": "text/x-python",
   "name": "python",
   "nbconvert_exporter": "python",
   "pygments_lexer": "ipython3",
   "version": "3.6.8"
  }
 },
 "nbformat": 4,
 "nbformat_minor": 2
}
