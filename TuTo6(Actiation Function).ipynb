{
 "cells": [
  {
   "cell_type": "code",
   "execution_count": 1,
   "metadata": {},
   "outputs": [],
   "source": [
    "import math as math\n",
    "import numpy as np\n",
    "import matplotlib.pyplot as plt\n",
    "import torch.tensor as tf\n",
    "from torch.autograd import Variable\n",
    "import pickle as pickle\n",
    "import csv"
   ]
  },
  {
   "cell_type": "code",
   "execution_count": 2,
   "metadata": {},
   "outputs": [],
   "source": [
    "x_data = [[2.1,0.1], [4.2,0.8], [3.1,0.9], [3.3,0.2]]\n",
    "y_data = [0.0, 1.0, 0.0, 1.0]\n",
    "def readFile(dirData):\n",
    "    array=[]\n",
    "    with open(dirData, 'rt') as csvFile:\n",
    "        reader = csv.reader(csvFile)\n",
    "        for row in reader:\n",
    "            array.append(row)\n",
    "    return array\n",
    "    csvFile.close()\n",
    "w=np.array(0.01)\n",
    "stepsize = 1e-2\n",
    "e=0.01\n",
    "fRecur=0.0\n",
    "fRecur1=0.0\n",
    "alpha=0.9\n",
    "beta=0.999\n",
    "scale=1.0507009873554804934193349852946"
   ]
  },
  {
   "cell_type": "code",
   "execution_count": 3,
   "metadata": {},
   "outputs": [],
   "source": [
    "def sigmoid(z):\n",
    "    return 1/(1+np.power(np.e,-z))"
   ]
  },
  {
   "cell_type": "code",
   "execution_count": 4,
   "metadata": {},
   "outputs": [],
   "source": [
    "def forward(x):\n",
    "    return x * w"
   ]
  },
  {
   "cell_type": "code",
   "execution_count": 5,
   "metadata": {},
   "outputs": [],
   "source": [
    "# Loss function\n",
    "def loss(x, y):\n",
    "    y_pred = sigmoid(forward(x))\n",
    "    return y*np.log10(y_pred) + (1-y)*np.log10(1-y_pred)"
   ]
  },
  {
   "cell_type": "code",
   "execution_count": 6,
   "metadata": {},
   "outputs": [],
   "source": [
    "# compute gradient\n",
    "def gradient(x, y):\n",
    "    return 2 * x * ((x * w) - y)"
   ]
  },
  {
   "cell_type": "code",
   "execution_count": 7,
   "metadata": {},
   "outputs": [],
   "source": [
    "def backpropagation(x,y):\n",
    "    return w- 0.001*gradient(x,y)"
   ]
  },
  {
   "cell_type": "code",
   "execution_count": 8,
   "metadata": {},
   "outputs": [],
   "source": [
    "def Relu(x):\n",
    "    return max(x,0)\n",
    "\n",
    "def Elu(x):\n",
    "    if x>0:\n",
    "        return x\n",
    "    else:\n",
    "        return alpha*(pow(np.e,x)-1) #alpha = 1.67326\n",
    "def Selu(x):\n",
    "    if x>0:\n",
    "        return x\n",
    "    else:\n",
    "        return scale*Elu(x) #Scale =1.0507009873554804934193349852946\n",
    "def PReLu(x):\n",
    "    if x>0:\n",
    "        return x\n",
    "    else:\n",
    "        return alpha*x\n",
    "def LeakyReLu(x):\n",
    "    if x>0:\n",
    "        return x\n",
    "    else:\n",
    "        return 0.01*x\n",
    "def HardTanh(x):\n",
    "    return max(-1,min(1,x))\n",
    "def TanH(x):\n",
    "    z=pow(np.e,x)\n",
    "    return (z-1/z)/(z+1/z)"
   ]
  },
  {
   "cell_type": "code",
   "execution_count": 9,
   "metadata": {},
   "outputs": [],
   "source": [
    "dirData= \"/home/dominic/Desktop/Trainning/Test/diabetes.csv\"\n",
    "file= readFile(dirData)\n",
    "data=np.array(file)\n",
    "data=data[1:].astype(float)\n",
    "test=data[0,0:7].reshape(-1,1)"
   ]
  },
  {
   "cell_type": "code",
   "execution_count": 10,
   "metadata": {},
   "outputs": [
    {
     "name": "stdout",
     "output_type": "stream",
     "text": [
      "w= 0\n",
      "w= 1\n",
      "w= 2\n",
      "w= 3\n",
      "w= 4\n",
      "w= 5\n",
      "w= 6\n",
      "w= 7\n",
      "w= 8\n",
      "w= 9\n",
      "w= 10\n",
      "[array([71.28545978,         nan,         nan,         inf,         nan,\n",
      "               inf,  3.61879679]), array([155.63219344,          nan,          nan,          inf,\n",
      "                nan,          inf,   9.33519713]), array([223.58608102,          nan,          nan,          inf,\n",
      "                nan,          inf,  14.96792031]), array([278.34687357,          nan,          nan,          inf,\n",
      "                nan,          inf,  20.521611  ]), array([322.48030302,          nan,          nan,          inf,\n",
      "                nan,          inf,  25.99998887]), array([357.88494627,          nan,          nan,          inf,\n",
      "                nan,          inf,  31.40580496]), array([386.95872073,          nan,          nan,          inf,\n",
      "                nan,          inf,  36.7411052 ]), array([        inf,         nan,         nan,         inf,         nan,\n",
      "               inf, 42.00749189]), array([        inf,         nan,         nan,         inf,         nan,\n",
      "               inf, 47.20630282]), array([        inf,         nan,         nan,         inf,         nan,\n",
      "               inf, 52.33871762]), array([        inf,         nan,         nan,         inf,         nan,\n",
      "               inf, 57.40581725])] [array([ 1.13610099e+00,  6.73395857e+06,  6.25402599e+03,  8.60596765e-01,\n",
      "       -1.98576413e+02,  1.95029772e+00,  2.93861784e-01]), array([ 2.04371854e+00, -1.38724761e+14, -5.51268279e+07,  9.31337912e-01,\n",
      "       -1.83777627e+05,  1.81360994e+00,  5.74192492e-01]), array([ 2.77524228e+00,  2.85783765e+21,  4.85977645e+11,  9.37221205e-01,\n",
      "       -1.69889586e+08,  1.82323916e+00,  8.51036049e-01]), array([ 3.36483752e+00, -5.88736717e+28, -4.28419841e+15,  9.37710498e-01,\n",
      "       -1.57050870e+11,  1.82256081e+00,  1.12443583e+00]), array([ 3.84004090e+00,  1.21284329e+36,  3.77679019e+19,  9.37751191e-01,\n",
      "       -1.45182387e+14,  1.82260860e+00,  1.39443468e+00]), array([ 4.22304644e+00, -2.49855122e+43, -3.32947795e+23,  9.37754575e-01,\n",
      "       -1.34210817e+17,  1.82260523e+00,  1.66107490e+00]), array([ 4.53174215e+00,  5.14720925e+50,  2.93514409e+27,  9.37754856e-01,\n",
      "       -1.24068379e+20,  1.82260547e+00,  1.92439827e+00]), array([ 4.78054546e+00, -1.06036502e+58, -2.58751401e+31,  9.37754880e-01,\n",
      "       -1.14692415e+23,  1.82260545e+00,  2.18444605e+00]), array([ 4.98107654e+00,  2.18443416e+65,  2.28105624e+35,  9.37754882e-01,\n",
      "       -1.06025001e+26,  1.82260545e+00,  2.44125898e+00]), array([ 5.14270105e+00, -4.50010375e+72, -2.01089445e+39,  9.37754882e-01,\n",
      "       -9.80125913e+28,  1.82260545e+00,  2.69487731e+00]), array([ 5.27296756e+00,  9.27056268e+79,  1.77272986e+43,  9.37754882e-01,\n",
      "       -9.06056872e+31,  1.82260545e+00,  2.94534078e+00])]\n"
     ]
    },
    {
     "name": "stderr",
     "output_type": "stream",
     "text": [
      "/home/dominic/yes/lib/python3.6/site-packages/ipykernel_launcher.py:4: RuntimeWarning: divide by zero encountered in log10\n",
      "  after removing the cwd from sys.path.\n",
      "/home/dominic/yes/lib/python3.6/site-packages/ipykernel_launcher.py:2: RuntimeWarning: overflow encountered in power\n",
      "  \n",
      "/home/dominic/yes/lib/python3.6/site-packages/ipykernel_launcher.py:10: RuntimeWarning: invalid value encountered in add\n",
      "  # Remove the CWD from sys.path while we load stuff.\n"
     ]
    },
    {
     "data": {
      "image/png": "[encoded data removed]",
      "text/plain": [
       "<Figure size 432x288 with 1 Axes>"
      ]
     },
     "metadata": {
      "needs_background": "light"
     },
     "output_type": "display_data"
    }
   ],
   "source": [
    "arrW=[]\n",
    "arrLoss=[]\n",
    "\n",
    "for layer in np.arange(11):\n",
    "    print(\"w=\", layer)\n",
    "    l_sum = 0\n",
    "    for x_val, y_val in zip(data[:5,0:7], data[:5,7]):\n",
    "        w=backpropagation(x_val,y_val)\n",
    "        l = loss(x_val, y_val)\n",
    "        l_sum += l\n",
    "#        print(\"\\t\", l)\n",
    "#    print(\"MSE=\", -l_sum / 3)\n",
    "    arrW.append(w)\n",
    "    arrLoss.append(l_sum / 3)\n",
    "print(arrLoss,arrW)\n",
    "plt.plot(arrLoss)\n",
    "plt.ylabel('Loss')\n",
    "plt.xlabel('w')\n",
    "plt.show()"
   ]
  },
  {
   "cell_type": "code",
   "execution_count": null,
   "metadata": {},
   "outputs": [],
   "source": []
  }
 ],
 "metadata": {
  "kernelspec": {
   "display_name": "Python 3",
   "language": "python",
   "name": "python3"
  },
  "language_info": {
   "codemirror_mode": {
    "name": "ipython",
    "version": 3
   },
   "file_extension": ".py",
   "mimetype": "text/x-python",
   "name": "python",
   "nbconvert_exporter": "python",
   "pygments_lexer": "ipython3",
   "version": "3.6.8"
  }
 },
 "nbformat": 4,
 "nbformat_minor": 2
}
