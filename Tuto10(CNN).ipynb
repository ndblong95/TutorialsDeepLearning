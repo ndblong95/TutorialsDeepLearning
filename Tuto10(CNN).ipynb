{
 "cells": [
  {
   "cell_type": "code",
   "execution_count": 2,
   "metadata": {},
   "outputs": [],
   "source": [
    "import matplotlib.pyplot as plt\n",
    "import torch\n",
    "import torch.nn as nn\n",
    "import torch.nn.functional as F\n",
    "import torch.optim as optim\n",
    "from torchvision import datasets, transforms\n",
    "from torch.autograd import Variable\n",
    "# =============================================================================\n",
    "# Read Data\n",
    "# =============================================================================\n",
    "batch_size = 64                                                                                                                                                 \n",
    "\n",
    "train_dataset = datasets.MNIST(root='./mnist_data/',train=True,transform=transforms.ToTensor(),download=True)\n",
    "\n",
    "test_dataset = datasets.MNIST(root='./mnist_data/',train=False,transform=transforms.ToTensor())\n",
    "train_loader = torch.utils.data.DataLoader(dataset=train_dataset,batch_size=batch_size,shuffle=True)\n",
    "test_loader = torch.utils.data.DataLoader(dataset=test_dataset,batch_size=batch_size,shuffle=False)"
   ]
  },
  {
   "cell_type": "code",
   "execution_count": 15,
   "metadata": {},
   "outputs": [],
   "source": [
    "# =============================================================================\n",
    "# Define Model\n",
    "# =============================================================================\n",
    "class Model(nn.Module):\n",
    "    def __init__(self):\n",
    "        super(Model, self).__init__()\n",
    "        self.conv1 = nn.Conv2d(1, 5, kernel_size=2)#28*28->24*24\n",
    "        self.conv2 = nn.Conv2d(5, 10, kernel_size=2)#12*12->10*10\n",
    "        self.conv3 = nn.Conv2d(10, 20, kernel_size=2)#5*5->3*3\n",
    "        self.mp = nn.MaxPool2d(2)\n",
    "        self.lc=nn.Linear(80,40)\n",
    "        self.fc = nn.Linear(40, 10)\n",
    "    def forward(self, x):\n",
    "        in_size = x.size(0)\n",
    "#        print(in_size)\n",
    "        x = F.relu(self.mp(self.conv1(x)))\n",
    "        x = F.relu(self.mp(self.conv2(x)))\n",
    "        x = F.relu(self.mp(self.conv3(x)))\n",
    "        x = x.view(in_size, -1)\n",
    "        x=self.lc(x)\n",
    "        return F.log_softmax(self.fc(x))"
   ]
  },
  {
   "cell_type": "code",
   "execution_count": 16,
   "metadata": {},
   "outputs": [
    {
     "name": "stderr",
     "output_type": "stream",
     "text": [
      "/home/dominic/yes/lib/python3.6/site-packages/ipykernel_launcher.py:21: UserWarning: Implicit dimension choice for log_softmax has been deprecated. Change the call to include dim=X as an argument.\n"
     ]
    },
    {
     "name": "stdout",
     "output_type": "stream",
     "text": [
      "Train Epoch: 1 Loss:2.2573702335357666\n",
      "Train Epoch: 2 Loss:0.5572424530982971\n",
      "Train Epoch: 3 Loss:0.2829728424549103\n",
      "Train Epoch: 4 Loss:0.46327152848243713\n",
      "Train Epoch: 5 Loss:0.14687491953372955\n",
      "Train Epoch: 6 Loss:0.20426321029663086\n",
      "Train Epoch: 7 Loss:0.010334312915802002\n",
      "Train Epoch: 8 Loss:0.07565724849700928\n",
      "Train Epoch: 9 Loss:0.11093652248382568\n"
     ]
    },
    {
     "data": {
      "text/plain": [
       "[<matplotlib.lines.Line2D at 0x7f07d5536160>]"
      ]
     },
     "execution_count": 16,
     "metadata": {},
     "output_type": "execute_result"
    },
    {
     "data": {
      "image/png": "[encoded data removed]",
      "text/plain": [
       "<Figure size 432x288 with 1 Axes>"
      ]
     },
     "metadata": {
      "needs_background": "light"
     },
     "output_type": "display_data"
    }
   ],
   "source": [
    "model = Model()\n",
    "#criterion = nn.CrossEntropyLoss()\n",
    "optimizer = optim.SGD(model.parameters(), lr=0.01, momentum=0.5)\n",
    "arLoss=[]\n",
    "for epoch in range(1, 10):\n",
    "    model.train()\n",
    "    for index, (x, y) in enumerate(train_loader):\n",
    "        x, y = Variable(x), Variable(y)\n",
    "        y_pred = model(x)\n",
    "        loss = F.nll_loss(y_pred, y)\n",
    "        arLoss.append(loss)\n",
    "        optimizer.zero_grad()\n",
    "        loss.backward()\n",
    "        optimizer.step()\n",
    "    print('Train Epoch: {} Loss:{}'.format(epoch, loss.data))\n",
    "plt.plot(arLoss)"
   ]
  },
  {
   "cell_type": "code",
   "execution_count": null,
   "metadata": {},
   "outputs": [],
   "source": []
  }
 ],
 "metadata": {
  "kernelspec": {
   "display_name": "Python 3",
   "language": "python",
   "name": "python3"
  },
  "language_info": {
   "codemirror_mode": {
    "name": "ipython",
    "version": 3
   },
   "file_extension": ".py",
   "mimetype": "text/x-python",
   "name": "python",
   "nbconvert_exporter": "python",
   "pygments_lexer": "ipython3",
   "version": "3.6.8"
  }
 },
 "nbformat": 4,
 "nbformat_minor": 2
}
