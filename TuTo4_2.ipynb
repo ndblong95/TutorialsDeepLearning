{
 "cells": [
  {
   "cell_type": "code",
   "execution_count": 28,
   "metadata": {},
   "outputs": [],
   "source": [
    "import numpy as np\n",
    "import matplotlib.pyplot as plt\n",
    "import torch.tensor as tf\n",
    "x_data = [1.0, 2.0, 3.0]\n",
    "y_data = [2.0, 4.0, 6.0]\n",
    "w = 1.0"
   ]
  },
  {
   "cell_type": "code",
   "execution_count": 29,
   "metadata": {},
   "outputs": [],
   "source": [
    "# our model forward pass\n",
    "\n",
    "def forward(x):\n",
    "    return x * w"
   ]
  },
  {
   "cell_type": "code",
   "execution_count": 30,
   "metadata": {},
   "outputs": [],
   "source": [
    "# Loss function\n",
    "def loss(x, y):\n",
    "    y_pred = forward(x)\n",
    "    return pow((y_pred - y),2)"
   ]
  },
  {
   "cell_type": "code",
   "execution_count": 31,
   "metadata": {},
   "outputs": [],
   "source": [
    "# compute gradient\n",
    "def gradient(x, y):\n",
    "    return 2 * x * (x * w - y)"
   ]
  },
  {
   "cell_type": "code",
   "execution_count": 32,
   "metadata": {},
   "outputs": [],
   "source": [
    "#backward\n",
    "def backward(x,y):\n",
    "    return w* forward(x)"
   ]
  },
  {
   "cell_type": "code",
   "execution_count": 33,
   "metadata": {},
   "outputs": [],
   "source": [
    "def backpropagation(x,y):\n",
    "    return w- 0.02*gradient(x, y)"
   ]
  },
  {
   "cell_type": "code",
   "execution_count": 34,
   "metadata": {},
   "outputs": [
    {
     "name": "stdout",
     "output_type": "stream",
     "text": [
      "4.0\n",
      "progress: 0 w= 1.483904 loss= 2.397195730944001\n",
      "progress: 1 w= 1.733644918784 loss= 0.6385052636062378\n",
      "progress: 2 w= 1.8625352080047473 loss= 0.17006912134468274\n",
      "progress: 3 w= 1.9290549707104179 loss= 0.0452987746280969\n",
      "progress: 4 w= 1.9633855541637637 loss= 0.012065558795052085\n",
      "progress: 5 w= 1.981103430961702 loss= 0.003213722892772484\n",
      "progress: 6 w= 1.9902475563056106 loss= 0.0008559914221101261\n",
      "progress: 7 w= 1.9949668028191003 loss= 0.00022799766475633436\n",
      "progress: 8 w= 1.9974023870677264 loss= 6.072833651323373e-05\n",
      "progress: 9 w= 1.9986593823561054 loss= 1.6175301004096973e-05\n",
      "progress: 10 w= 1.9993081125964567 loss= 4.308373612637153e-06\n",
      "progress: 11 w= 1.999642919678581 loss= 1.147557203502345e-06\n",
      "progress: 12 w= 1.9998157122744369 loss= 3.056576921387877e-07\n",
      "progress: 13 w= 1.9999048898419878 loss= 8.141347941386486e-08\n",
      "progress: 14 w= 1.9999509140278904 loss= 2.1684893921386116e-08\n",
      "progress: 15 w= 1.999974666926138 loss= 5.775881681706368e-09\n",
      "progress: 16 w= 1.999986925701912 loss= 1.5384354344494047e-09\n",
      "progress: 17 w= 1.999993252407054 loss= 4.097700950863367e-10\n",
      "progress: 18 w= 1.9999965175942709 loss= 1.0914434695962365e-10\n",
      "progress: 19 w= 1.999998202744333 loss= 2.9071151391702595e-11\n",
      "progress: 20 w= 1.9999990724435395 loss= 7.743248889680307e-12\n",
      "progress: 21 w= 1.999999521291821 loss= 2.0624536872461804e-12\n",
      "progress: 22 w= 1.9999997529406235 loss= 5.493450197046261e-13\n",
      "progress: 23 w= 1.999999872493644 loss= 1.4632083736542766e-13\n",
      "progress: 24 w= 1.9999999341944796 loss= 3.8973298683631035e-14\n",
      "progress: 25 w= 1.9999999660380343 loss= 1.0380736018194994e-14\n",
      "progress: 26 w= 1.9999999824723653 loss= 2.7649618196832182e-15\n",
      "progress: 27 w= 1.9999999909540578 loss= 7.364616113197862e-16\n",
      "progress: 28 w= 1.9999999953314254 loss= 1.9616029613450225e-16\n",
      "progress: 29 w= 1.9999999975905673 loss= 5.224829140117585e-17\n",
      "progress: 30 w= 1.9999999987565014 loss= 1.3916599750790023e-17\n",
      "progress: 31 w= 1.9999999993582354 loss= 3.706755839896269e-18\n",
      "progress: 32 w= 1.999999999668788 loss= 9.873113005513243e-19\n",
      "progress: 33 w= 1.999999999829063 loss= 2.62975251868284e-19\n",
      "progress: 34 w= 1.9999999999117801 loss= 7.004460092080086e-20\n",
      "progress: 35 w= 1.99999999995447 loss= 1.8656908587225806e-20\n",
      "progress: 36 w= 1.9999999999765021 loss= 4.969380490070246e-21\n",
      "progress: 37 w= 1.9999999999878728 loss= 1.3236182302109993e-21\n",
      "progress: 38 w= 1.9999999999937412 loss= 3.525416229989081e-22\n",
      "progress: 39 w= 1.99999999999677 loss= 9.389661471273712e-23\n",
      "progress: 40 w= 1.999999999998333 loss= 2.5013328589353583e-23\n",
      "progress: 41 w= 1.9999999999991396 loss= 6.661800971402988e-24\n",
      "progress: 42 w= 1.999999999999556 loss= 1.7749370367472766e-24\n",
      "progress: 43 w= 1.9999999999997708 loss= 4.725876356561829e-25\n",
      "progress: 44 w= 1.9999999999998819 loss= 1.255874449720903e-25\n",
      "progress: 45 w= 1.9999999999999392 loss= 3.3476101373958857e-26\n",
      "progress: 46 w= 1.9999999999999687 loss= 8.863641131063289e-27\n",
      "progress: 47 w= 1.999999999999984 loss= 2.3003183996244704e-27\n",
      "progress: 48 w= 1.9999999999999918 loss= 6.184669496932733e-28\n",
      "progress: 49 w= 1.9999999999999958 loss= 1.5461673742331831e-28\n",
      "progress: 50 w= 1.9999999999999978 loss= 5.048709793414476e-29\n",
      "progress: 51 w= 1.999999999999999 loss= 1.262177448353619e-29\n",
      "progress: 52 w= 1.9999999999999993 loss= 3.1554436208840472e-30\n",
      "progress: 53 w= 1.9999999999999996 loss= 3.1554436208840472e-30\n",
      "progress: 54 w= 1.9999999999999998 loss= 7.888609052210118e-31\n",
      "progress: 55 w= 1.9999999999999998 loss= 7.888609052210118e-31\n",
      "progress: 56 w= 1.9999999999999998 loss= 7.888609052210118e-31\n",
      "progress: 57 w= 1.9999999999999998 loss= 7.888609052210118e-31\n",
      "progress: 58 w= 1.9999999999999998 loss= 7.888609052210118e-31\n",
      "progress: 59 w= 1.9999999999999998 loss= 7.888609052210118e-31\n",
      "progress: 60 w= 1.9999999999999998 loss= 7.888609052210118e-31\n",
      "progress: 61 w= 1.9999999999999998 loss= 7.888609052210118e-31\n",
      "progress: 62 w= 1.9999999999999998 loss= 7.888609052210118e-31\n",
      "progress: 63 w= 1.9999999999999998 loss= 7.888609052210118e-31\n",
      "progress: 64 w= 1.9999999999999998 loss= 7.888609052210118e-31\n",
      "progress: 65 w= 1.9999999999999998 loss= 7.888609052210118e-31\n",
      "progress: 66 w= 1.9999999999999998 loss= 7.888609052210118e-31\n",
      "progress: 67 w= 1.9999999999999998 loss= 7.888609052210118e-31\n",
      "progress: 68 w= 1.9999999999999998 loss= 7.888609052210118e-31\n",
      "progress: 69 w= 1.9999999999999998 loss= 7.888609052210118e-31\n",
      "progress: 70 w= 1.9999999999999998 loss= 7.888609052210118e-31\n",
      "progress: 71 w= 1.9999999999999998 loss= 7.888609052210118e-31\n",
      "progress: 72 w= 1.9999999999999998 loss= 7.888609052210118e-31\n",
      "progress: 73 w= 1.9999999999999998 loss= 7.888609052210118e-31\n",
      "progress: 74 w= 1.9999999999999998 loss= 7.888609052210118e-31\n",
      "progress: 75 w= 1.9999999999999998 loss= 7.888609052210118e-31\n",
      "progress: 76 w= 1.9999999999999998 loss= 7.888609052210118e-31\n",
      "progress: 77 w= 1.9999999999999998 loss= 7.888609052210118e-31\n",
      "progress: 78 w= 1.9999999999999998 loss= 7.888609052210118e-31\n",
      "progress: 79 w= 1.9999999999999998 loss= 7.888609052210118e-31\n",
      "progress: 80 w= 1.9999999999999998 loss= 7.888609052210118e-31\n",
      "progress: 81 w= 1.9999999999999998 loss= 7.888609052210118e-31\n",
      "progress: 82 w= 1.9999999999999998 loss= 7.888609052210118e-31\n",
      "progress: 83 w= 1.9999999999999998 loss= 7.888609052210118e-31\n",
      "progress: 84 w= 1.9999999999999998 loss= 7.888609052210118e-31\n",
      "progress: 85 w= 1.9999999999999998 loss= 7.888609052210118e-31\n",
      "progress: 86 w= 1.9999999999999998 loss= 7.888609052210118e-31\n",
      "progress: 87 w= 1.9999999999999998 loss= 7.888609052210118e-31\n",
      "progress: 88 w= 1.9999999999999998 loss= 7.888609052210118e-31\n",
      "progress: 89 w= 1.9999999999999998 loss= 7.888609052210118e-31\n",
      "progress: 90 w= 1.9999999999999998 loss= 7.888609052210118e-31\n",
      "progress: 91 w= 1.9999999999999998 loss= 7.888609052210118e-31\n",
      "progress: 92 w= 1.9999999999999998 loss= 7.888609052210118e-31\n",
      "progress: 93 w= 1.9999999999999998 loss= 7.888609052210118e-31\n",
      "progress: 94 w= 1.9999999999999998 loss= 7.888609052210118e-31\n",
      "progress: 95 w= 1.9999999999999998 loss= 7.888609052210118e-31\n",
      "progress: 96 w= 1.9999999999999998 loss= 7.888609052210118e-31\n",
      "progress: 97 w= 1.9999999999999998 loss= 7.888609052210118e-31\n",
      "progress: 98 w= 1.9999999999999998 loss= 7.888609052210118e-31\n",
      "progress: 99 w= 1.9999999999999998 loss= 7.888609052210118e-31\n",
      "7.999999999999999\n"
     ]
    },
    {
     "data": {
      "text/plain": [
       "<function matplotlib.pyplot.show(*args, **kw)>"
      ]
     },
     "execution_count": 34,
     "metadata": {},
     "output_type": "execute_result"
    },
    {
     "data": {
      "image/png": "[encoded data removed]",
      "text/plain": [
       "<Figure size 432x288 with 1 Axes>"
      ]
     },
     "metadata": {
      "needs_background": "light"
     },
     "output_type": "display_data"
    }
   ],
   "source": [
    "arrLoss=[]\n",
    "print(forward(4))\n",
    "for epoch in range(100):\n",
    "    for x_val, y_val in zip(x_data, y_data):\n",
    "        w=backpropagation(x_val,y_val)\n",
    "        #print(\"\\tgrad: \", x_val, y_val, w)\n",
    "        l = loss(x_val, y_val)\n",
    "    print(\"progress:\", epoch, \"w=\", w, \"loss=\", l)\n",
    "    arrLoss.append(l)\n",
    "print(forward(4))\n",
    "plt.plot(arrLoss)\n",
    "plt.xlabel('W')\n",
    "plt.ylabel('loss')\n",
    "plt.show"
   ]
  },
  {
   "cell_type": "code",
   "execution_count": null,
   "metadata": {},
   "outputs": [],
   "source": []
  }
 ],
 "metadata": {
  "kernelspec": {
   "display_name": "Python 3",
   "language": "python",
   "name": "python3"
  },
  "language_info": {
   "codemirror_mode": {
    "name": "ipython",
    "version": 3
   },
   "file_extension": ".py",
   "mimetype": "text/x-python",
   "name": "python",
   "nbconvert_exporter": "python",
   "pygments_lexer": "ipython3",
   "version": "3.6.8"
  }
 },
 "nbformat": 4,
 "nbformat_minor": 2
}
