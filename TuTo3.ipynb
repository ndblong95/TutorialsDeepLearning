{
 "cells": [
  {
   "cell_type": "code",
   "execution_count": 55,
   "metadata": {},
   "outputs": [],
   "source": [
    "import numpy as np\n",
    "import matplotlib.pyplot as plt\n",
    "x_data= [1.0, 2.0, 3.0]\n",
    "y_data= [2.0, 4.0, 6.0]\n",
    "w=1.0"
   ]
  },
  {
   "cell_type": "code",
   "execution_count": 56,
   "metadata": {},
   "outputs": [],
   "source": [
    "#Forward Function\n",
    "def forward(x):\n",
    "    return x*w\n"
   ]
  },
  {
   "cell_type": "code",
   "execution_count": 57,
   "metadata": {},
   "outputs": [],
   "source": [
    "def loss(x, y):\n",
    "    y_pred=forward(x)\n",
    "    return (y_pred-y) * (y_pred-y)\n"
   ]
  },
  {
   "cell_type": "code",
   "execution_count": 58,
   "metadata": {},
   "outputs": [],
   "source": [
    "def gradient(x, y):\n",
    "    return 2*x*(x*w-y)\n"
   ]
  },
  {
   "cell_type": "code",
   "execution_count": 59,
   "metadata": {},
   "outputs": [
    {
     "data": {
      "image/png": "[encoded data removed]",
      "text/plain": [
       "<Figure size 432x288 with 1 Axes>"
      ]
     },
     "metadata": {
      "needs_background": "light"
     },
     "output_type": "display_data"
    }
   ],
   "source": [
    "arrLoss=[]\n",
    "arrW=[]\n",
    "for i in range(100):\n",
    "    for x_val, y_val in zip(x_data, y_data):\n",
    "        graUpd= gradient(x_val, y_val)\n",
    "        w=w-graUpd*0.01\n",
    "        l=loss(x_val,y_val)\n",
    "    #    print('Gradiant:',graUpd)\n",
    "    arrLoss.append(l)\n",
    "    arrW.append(i)  \n",
    "    \n",
    "#    print(\"loss update\",l)\n",
    "#    print(\"MSE=\", l_sum / 3)\n",
    "#    arrW.append(w)\n",
    "#    arrMSE.append(l_sum / 3)\n",
    "\n",
    "plt.plot(arrW,arrLoss)\n",
    "plt.ylabel('Loss')\n",
    "plt.xlabel('w')\n",
    "plt.show()"
   ]
  },
  {
   "cell_type": "code",
   "execution_count": null,
   "metadata": {},
   "outputs": [],
   "source": []
  }
 ],
 "metadata": {
  "kernelspec": {
   "display_name": "Python 3",
   "language": "python",
   "name": "python3"
  },
  "language_info": {
   "codemirror_mode": {
    "name": "ipython",
    "version": 3
   },
   "file_extension": ".py",
   "mimetype": "text/x-python",
   "name": "python",
   "nbconvert_exporter": "python",
   "pygments_lexer": "ipython3",
   "version": "3.6.8"
  }
 },
 "nbformat": 4,
 "nbformat_minor": 2
}
